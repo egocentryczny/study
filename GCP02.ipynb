{
  "nbformat": 4,
  "nbformat_minor": 0,
  "metadata": {
    "colab": {
      "provenance": [],
      "authorship_tag": "ABX9TyNfjNJTcPYHQS1DcnDE28Cp",
      "include_colab_link": true
    },
    "kernelspec": {
      "name": "python3",
      "display_name": "Python 3"
    },
    "language_info": {
      "name": "python"
    }
  },
  "cells": [
    {
      "cell_type": "markdown",
      "metadata": {
        "id": "view-in-github",
        "colab_type": "text"
      },
      "source": [
        "<a href=\"https://colab.research.google.com/github/egocentryczny/study/blob/main/GCP02.ipynb\" target=\"_parent\"><img src=\"https://colab.research.google.com/assets/colab-badge.svg\" alt=\"Open In Colab\"/></a>"
      ]
    },
    {
      "cell_type": "code",
      "execution_count": 1,
      "metadata": {
        "colab": {
          "base_uri": "https://localhost:8080/"
        },
        "id": "RQL1RoxurMEd",
        "outputId": "61cb311d-f109-4cad-b2bf-d16ba0eaf0e2"
      },
      "outputs": [
        {
          "output_type": "stream",
          "name": "stdout",
          "text": [
            "Requirement already satisfied: google-cloud-aiplatform in /usr/local/lib/python3.11/dist-packages (1.74.0)\n",
            "Requirement already satisfied: google-api-core!=2.0.*,!=2.1.*,!=2.2.*,!=2.3.*,!=2.4.*,!=2.5.*,!=2.6.*,!=2.7.*,<3.0.0dev,>=1.34.1 in /usr/local/lib/python3.11/dist-packages (from google-api-core[grpc]!=2.0.*,!=2.1.*,!=2.2.*,!=2.3.*,!=2.4.*,!=2.5.*,!=2.6.*,!=2.7.*,<3.0.0dev,>=1.34.1->google-cloud-aiplatform) (2.19.2)\n",
            "Requirement already satisfied: google-auth<3.0.0dev,>=2.14.1 in /usr/local/lib/python3.11/dist-packages (from google-cloud-aiplatform) (2.27.0)\n",
            "Requirement already satisfied: proto-plus<2.0.0dev,>=1.22.3 in /usr/local/lib/python3.11/dist-packages (from google-cloud-aiplatform) (1.26.0)\n",
            "Requirement already satisfied: protobuf!=4.21.0,!=4.21.1,!=4.21.2,!=4.21.3,!=4.21.4,!=4.21.5,<6.0.0dev,>=3.20.2 in /usr/local/lib/python3.11/dist-packages (from google-cloud-aiplatform) (4.25.6)\n",
            "Requirement already satisfied: packaging>=14.3 in /usr/local/lib/python3.11/dist-packages (from google-cloud-aiplatform) (24.2)\n",
            "Requirement already satisfied: google-cloud-storage<3.0.0dev,>=1.32.0 in /usr/local/lib/python3.11/dist-packages (from google-cloud-aiplatform) (2.19.0)\n",
            "Requirement already satisfied: google-cloud-bigquery!=3.20.0,<4.0.0dev,>=1.15.0 in /usr/local/lib/python3.11/dist-packages (from google-cloud-aiplatform) (3.25.0)\n",
            "Requirement already satisfied: google-cloud-resource-manager<3.0.0dev,>=1.3.3 in /usr/local/lib/python3.11/dist-packages (from google-cloud-aiplatform) (1.14.0)\n",
            "Requirement already satisfied: shapely<3.0.0dev in /usr/local/lib/python3.11/dist-packages (from google-cloud-aiplatform) (2.0.6)\n",
            "Requirement already satisfied: pydantic<3 in /usr/local/lib/python3.11/dist-packages (from google-cloud-aiplatform) (2.10.6)\n",
            "Requirement already satisfied: docstring-parser<1 in /usr/local/lib/python3.11/dist-packages (from google-cloud-aiplatform) (0.16)\n",
            "Requirement already satisfied: googleapis-common-protos<2.0.dev0,>=1.56.2 in /usr/local/lib/python3.11/dist-packages (from google-api-core!=2.0.*,!=2.1.*,!=2.2.*,!=2.3.*,!=2.4.*,!=2.5.*,!=2.6.*,!=2.7.*,<3.0.0dev,>=1.34.1->google-api-core[grpc]!=2.0.*,!=2.1.*,!=2.2.*,!=2.3.*,!=2.4.*,!=2.5.*,!=2.6.*,!=2.7.*,<3.0.0dev,>=1.34.1->google-cloud-aiplatform) (1.66.0)\n",
            "Requirement already satisfied: requests<3.0.0.dev0,>=2.18.0 in /usr/local/lib/python3.11/dist-packages (from google-api-core!=2.0.*,!=2.1.*,!=2.2.*,!=2.3.*,!=2.4.*,!=2.5.*,!=2.6.*,!=2.7.*,<3.0.0dev,>=1.34.1->google-api-core[grpc]!=2.0.*,!=2.1.*,!=2.2.*,!=2.3.*,!=2.4.*,!=2.5.*,!=2.6.*,!=2.7.*,<3.0.0dev,>=1.34.1->google-cloud-aiplatform) (2.32.3)\n",
            "Requirement already satisfied: grpcio<2.0dev,>=1.33.2 in /usr/local/lib/python3.11/dist-packages (from google-api-core[grpc]!=2.0.*,!=2.1.*,!=2.2.*,!=2.3.*,!=2.4.*,!=2.5.*,!=2.6.*,!=2.7.*,<3.0.0dev,>=1.34.1->google-cloud-aiplatform) (1.70.0)\n",
            "Requirement already satisfied: grpcio-status<2.0.dev0,>=1.33.2 in /usr/local/lib/python3.11/dist-packages (from google-api-core[grpc]!=2.0.*,!=2.1.*,!=2.2.*,!=2.3.*,!=2.4.*,!=2.5.*,!=2.6.*,!=2.7.*,<3.0.0dev,>=1.34.1->google-cloud-aiplatform) (1.62.3)\n",
            "Requirement already satisfied: cachetools<6.0,>=2.0.0 in /usr/local/lib/python3.11/dist-packages (from google-auth<3.0.0dev,>=2.14.1->google-cloud-aiplatform) (5.5.1)\n",
            "Requirement already satisfied: pyasn1-modules>=0.2.1 in /usr/local/lib/python3.11/dist-packages (from google-auth<3.0.0dev,>=2.14.1->google-cloud-aiplatform) (0.4.1)\n",
            "Requirement already satisfied: rsa<5,>=3.1.4 in /usr/local/lib/python3.11/dist-packages (from google-auth<3.0.0dev,>=2.14.1->google-cloud-aiplatform) (4.9)\n",
            "Requirement already satisfied: google-cloud-core<3.0.0dev,>=1.6.0 in /usr/local/lib/python3.11/dist-packages (from google-cloud-bigquery!=3.20.0,<4.0.0dev,>=1.15.0->google-cloud-aiplatform) (2.4.1)\n",
            "Requirement already satisfied: google-resumable-media<3.0dev,>=0.6.0 in /usr/local/lib/python3.11/dist-packages (from google-cloud-bigquery!=3.20.0,<4.0.0dev,>=1.15.0->google-cloud-aiplatform) (2.7.2)\n",
            "Requirement already satisfied: python-dateutil<3.0dev,>=2.7.2 in /usr/local/lib/python3.11/dist-packages (from google-cloud-bigquery!=3.20.0,<4.0.0dev,>=1.15.0->google-cloud-aiplatform) (2.8.2)\n",
            "Requirement already satisfied: grpc-google-iam-v1<1.0.0dev,>=0.12.4 in /usr/local/lib/python3.11/dist-packages (from google-cloud-resource-manager<3.0.0dev,>=1.3.3->google-cloud-aiplatform) (0.14.0)\n",
            "Requirement already satisfied: google-crc32c<2.0dev,>=1.0 in /usr/local/lib/python3.11/dist-packages (from google-cloud-storage<3.0.0dev,>=1.32.0->google-cloud-aiplatform) (1.6.0)\n",
            "Requirement already satisfied: annotated-types>=0.6.0 in /usr/local/lib/python3.11/dist-packages (from pydantic<3->google-cloud-aiplatform) (0.7.0)\n",
            "Requirement already satisfied: pydantic-core==2.27.2 in /usr/local/lib/python3.11/dist-packages (from pydantic<3->google-cloud-aiplatform) (2.27.2)\n",
            "Requirement already satisfied: typing-extensions>=4.12.2 in /usr/local/lib/python3.11/dist-packages (from pydantic<3->google-cloud-aiplatform) (4.12.2)\n",
            "Requirement already satisfied: numpy<3,>=1.14 in /usr/local/lib/python3.11/dist-packages (from shapely<3.0.0dev->google-cloud-aiplatform) (1.26.4)\n",
            "Requirement already satisfied: pyasn1<0.7.0,>=0.4.6 in /usr/local/lib/python3.11/dist-packages (from pyasn1-modules>=0.2.1->google-auth<3.0.0dev,>=2.14.1->google-cloud-aiplatform) (0.6.1)\n",
            "Requirement already satisfied: six>=1.5 in /usr/local/lib/python3.11/dist-packages (from python-dateutil<3.0dev,>=2.7.2->google-cloud-bigquery!=3.20.0,<4.0.0dev,>=1.15.0->google-cloud-aiplatform) (1.17.0)\n",
            "Requirement already satisfied: charset-normalizer<4,>=2 in /usr/local/lib/python3.11/dist-packages (from requests<3.0.0.dev0,>=2.18.0->google-api-core!=2.0.*,!=2.1.*,!=2.2.*,!=2.3.*,!=2.4.*,!=2.5.*,!=2.6.*,!=2.7.*,<3.0.0dev,>=1.34.1->google-api-core[grpc]!=2.0.*,!=2.1.*,!=2.2.*,!=2.3.*,!=2.4.*,!=2.5.*,!=2.6.*,!=2.7.*,<3.0.0dev,>=1.34.1->google-cloud-aiplatform) (3.4.1)\n",
            "Requirement already satisfied: idna<4,>=2.5 in /usr/local/lib/python3.11/dist-packages (from requests<3.0.0.dev0,>=2.18.0->google-api-core!=2.0.*,!=2.1.*,!=2.2.*,!=2.3.*,!=2.4.*,!=2.5.*,!=2.6.*,!=2.7.*,<3.0.0dev,>=1.34.1->google-api-core[grpc]!=2.0.*,!=2.1.*,!=2.2.*,!=2.3.*,!=2.4.*,!=2.5.*,!=2.6.*,!=2.7.*,<3.0.0dev,>=1.34.1->google-cloud-aiplatform) (3.10)\n",
            "Requirement already satisfied: urllib3<3,>=1.21.1 in /usr/local/lib/python3.11/dist-packages (from requests<3.0.0.dev0,>=2.18.0->google-api-core!=2.0.*,!=2.1.*,!=2.2.*,!=2.3.*,!=2.4.*,!=2.5.*,!=2.6.*,!=2.7.*,<3.0.0dev,>=1.34.1->google-api-core[grpc]!=2.0.*,!=2.1.*,!=2.2.*,!=2.3.*,!=2.4.*,!=2.5.*,!=2.6.*,!=2.7.*,<3.0.0dev,>=1.34.1->google-cloud-aiplatform) (2.3.0)\n",
            "Requirement already satisfied: certifi>=2017.4.17 in /usr/local/lib/python3.11/dist-packages (from requests<3.0.0.dev0,>=2.18.0->google-api-core!=2.0.*,!=2.1.*,!=2.2.*,!=2.3.*,!=2.4.*,!=2.5.*,!=2.6.*,!=2.7.*,<3.0.0dev,>=1.34.1->google-api-core[grpc]!=2.0.*,!=2.1.*,!=2.2.*,!=2.3.*,!=2.4.*,!=2.5.*,!=2.6.*,!=2.7.*,<3.0.0dev,>=1.34.1->google-cloud-aiplatform) (2024.12.14)\n"
          ]
        }
      ],
      "source": [
        "!pip install google-cloud-aiplatform"
      ]
    },
    {
      "cell_type": "code",
      "source": [
        "import IPython\n",
        "import time\n",
        "\n",
        "app = IPython.Application.instance()\n",
        "app.kernel.do_shutdown(True)"
      ],
      "metadata": {
        "colab": {
          "base_uri": "https://localhost:8080/"
        },
        "id": "yGGEapIzrWS9",
        "outputId": "aadbb3de-9c66-4212-f279-d9d44c5f16fb"
      },
      "execution_count": 2,
      "outputs": [
        {
          "output_type": "execute_result",
          "data": {
            "text/plain": [
              "{'status': 'ok', 'restart': True}"
            ]
          },
          "metadata": {},
          "execution_count": 2
        }
      ]
    },
    {
      "cell_type": "code",
      "source": [
        "from google.colab import auth\n",
        "auth.authenticate_user()"
      ],
      "metadata": {
        "id": "9Rw_Ii78reNH"
      },
      "execution_count": 1,
      "outputs": []
    },
    {
      "cell_type": "code",
      "source": [
        "import vertexai\n",
        "\n",
        "vertexai.init(project = 'gcplearning-449919', location = \"europe-central2\")"
      ],
      "metadata": {
        "id": "8kbqx6bprnas"
      },
      "execution_count": 2,
      "outputs": []
    },
    {
      "cell_type": "code",
      "source": [
        "from vertexai.preview.generative_models import GenerativeModel\n",
        "\n",
        "model = GenerativeModel(\"gemini-pro\")\n"
      ],
      "metadata": {
        "id": "_7zgAh-mrwlI"
      },
      "execution_count": 4,
      "outputs": []
    },
    {
      "cell_type": "code",
      "source": [
        "responses = model.generate_content(\"What is a mammoth?\", stream = True)"
      ],
      "metadata": {
        "id": "pXrqLQILr5fn"
      },
      "execution_count": 10,
      "outputs": []
    },
    {
      "cell_type": "code",
      "source": [
        "print(responses)"
      ],
      "metadata": {
        "colab": {
          "base_uri": "https://localhost:8080/"
        },
        "id": "v92vLHyGsAb_",
        "outputId": "28d7f1c1-eb1d-4600-d043-62cfc7860690"
      },
      "execution_count": 11,
      "outputs": [
        {
          "output_type": "stream",
          "name": "stdout",
          "text": [
            "<generator object _GenerativeModel._generate_content_streaming at 0x7c4feb2f3880>\n"
          ]
        }
      ]
    },
    {
      "cell_type": "code",
      "source": [
        "for response in responses:\n",
        "  print(response.text)"
      ],
      "metadata": {
        "colab": {
          "base_uri": "https://localhost:8080/"
        },
        "id": "vEUB4aLzsC12",
        "outputId": "f772d953-8812-4152-b0c2-ed0c3ef3d821"
      },
      "execution_count": 12,
      "outputs": [
        {
          "output_type": "stream",
          "name": "stdout",
          "text": [
            "##\n",
            " What is a mammoth?\n",
            "\n",
            "A mammoth is an extinct species of elephant that lived\n",
            " during the Pleistocene epoch, roughly 2.6 million to 11,7\n",
            "00 years ago. They were closely related to modern elephants and shared many physical characteristics, such as a trunk, tusks, and thick skin. However, mammoths were\n",
            " much larger than their modern counterparts, standing up to 13 feet tall at the shoulder and weighing up to 12 tons. They were also adapted to\n",
            " colder climates, with thick fur and a layer of fat beneath their skin to help them survive in ice-age conditions.\n",
            "\n",
            "There were several different species of mammoths, including the woolly mammoth, the Columbian mammoth, and the Steppe mammoth.\n",
            " The woolly mammoth is perhaps the most well-known species, thanks to its iconic tusks and thick fur, which have been preserved in frozen carcasses found in Siberia and Alaska.\n",
            "\n",
            "## Where did mammoths live?\n",
            "\n",
            "Mammoths were found\n",
            " throughout the Northern Hemisphere, from North America and Europe to Asia. They preferred cold, open habitats such as grasslands, steppes, and tundras. During the last glacial period, mammoths were able to expand their range into areas that were previously too cold for them, such as northern Europe and Siberia.\n",
            "\n",
            "## What did mammoths\n",
            " eat?\n",
            "\n",
            "Mammoths were herbivores and their diet consisted mainly of grasses, sedges, and other plants that grew in their cold, open habitats. They used their large tusks to dig up roots and strip bark from trees. Mammoths' molars were also well-adapted to grinding up tough plant material.\n",
            "\n",
            "##\n",
            " Why did mammoths go extinct?\n",
            "\n",
            "The extinction of mammoths is a complex issue, and there is no single definitive answer. However, a combination of factors likely contributed to their demise, including:\n",
            "\n",
            "* **Climate change:** The end of the last glacial period around 11,700 years ago led to a\n",
            " warming of the climate, which may have made it difficult for mammoths to survive in their preferred habitats.\n",
            "* **Habitat loss:** As the climate changed, the open grasslands and steppes that mammoths relied on were replaced by forests and other types of vegetation. This habitat loss may have made it difficult for mammoths to find\n",
            " enough food.\n",
            "* **Overhunting by humans:** Humans began to hunt mammoths around 40,000 years ago, and this may have contributed to their extinction. Some scientists believe that overhunting by humans was the main cause of the mammoth's extinction, while others believe that it was a contributing factor.\n",
            "\n",
            "\n",
            "## Mammoths in popular culture\n",
            "\n",
            "Mammoths have been featured in many works of popular culture, including books, movies, and television shows. \n",
            "\n",
            " Some famous examples include:\n",
            "\n",
            "* **The movie \"Ice Age\" (2002):** This animated film features a woolly mammoth named Manny as one of the main\n",
            " characters.\n",
            "* **The book \"The Mammoth Hunters\" by Jean M. Auel (1980):** This historical fiction novel tells the story of a group of Neanderthals who hunt mammoths.\n",
            "* **The television show \"Walking with Beasts\" (2001):** This documentary series\n",
            " features an episode about mammoths, which includes computer-generated animation of the animals in their natural habitat.\n",
            "\n",
            "## Conclusion\n",
            "\n",
            "Mammoths were fascinating creatures that played an important role in the ecosystems of the Northern Hemisphere. Their extinction is a reminder of the fragility of life and the impact that humans can have on the environment. \n",
            "\n",
            "\n"
          ]
        }
      ]
    },
    {
      "cell_type": "code",
      "source": [
        "from vertexai.preview.generative_models import GenerationConfig\n",
        "\n",
        "config = GenerationConfig(\n",
        "    temperature = 1,\n",
        "    top_k = 1,\n",
        "    top_p = 0.1,\n",
        "    candidate_count = 4,\n",
        "    max_output_tokens= 8000\n",
        ")\n",
        "\n",
        "responses = model.generate_content(\"What is a mammoth?\", stream = True)\n",
        "\n",
        "for response in responses:\n",
        "  print(response.text, end = \"\")"
      ],
      "metadata": {
        "colab": {
          "base_uri": "https://localhost:8080/"
        },
        "id": "3VMKWawFshUr",
        "outputId": "6c8cf931-73aa-4676-ce2a-8eaa896f7c62"
      },
      "execution_count": 17,
      "outputs": [
        {
          "output_type": "stream",
          "name": "stdout",
          "text": [
            "## The Mighty Mammoth\n",
            "\n",
            "The mammoth was a truly magnificent creature, a giant elephant-like animal that roamed the Earth during the Pleistocene epoch. These beasts were incredibly strong and well-adapted to cold climates, boasting thick fur and long tusks that could reach up to 16 feet in length. \n",
            "\n",
            "While mammoths are most closely associated with the woolly mammoth, which sported a dense coat of fur to survive the glacial conditions, there were actually several different species of mammoths that existed throughout history. These included:\n",
            "\n",
            "* **Woolly mammoth:** The most famous and well-studied species, found in Europe, Asia, and North America.\n",
            "* **Columbian mammoth:** Lived in North America, particularly in the southern regions.\n",
            "* **Steppe mammoth:** Inhabited the open grasslands and steppes of northern Eurasia.\n",
            "* **Southern mammoth:** Primarily found in South America, with smaller populations in North America.\n",
            "\n",
            "Sadly, mammoths eventually went extinct around 10,000 years ago, with the exact cause still debated by scientists. Climate change, habitat loss, and hunting by early humans are all believed to have played a role.\n",
            "\n",
            "Despite their disappearance, mammoths remain a subject of great fascination. Their remains continue to be unearthed, providing valuable insights into their biology and behavior. Additionally, the possibility of cloning mammoths using preserved DNA is currently being explored, potentially bringing these incredible creatures back to life.\n",
            "\n",
            "Would you like to learn more about any specific aspect of mammoths, such as their physical characteristics, habitat, behavior, or extinction?"
          ]
        }
      ]
    },
    {
      "cell_type": "code",
      "source": [
        "chat = model.start_chat()\n",
        "\n",
        "responses = chat.send_message(\"Hi, I am a new student looking to learn to code. What should I learn?\", stream = True)\n",
        "\n",
        "for response in responses:\n",
        "  print(response.text, end = \"\")"
      ],
      "metadata": {
        "colab": {
          "base_uri": "https://localhost:8080/"
        },
        "id": "jSOyPyWYuBow",
        "outputId": "44cdfe91-ec1c-447b-c7bd-f98b61146978"
      },
      "execution_count": 18,
      "outputs": [
        {
          "output_type": "stream",
          "name": "stdout",
          "text": [
            "The best coding language to learn for a new student depends on a few factors, including:\n",
            "\n",
            "* **Your interests:** What kind of applications do you want to build? Games, websites, mobile apps, or something else?\n",
            "* **Your learning style:** Do you prefer to learn by doing, or do you need a more structured approach?\n",
            "* **Your prior experience:** Do you have any experience with programming or coding?\n",
            "\n",
            "Here are a few popular coding languages that are good for beginners:\n",
            "\n",
            "**1. Python:** Python is a versatile language that is easy to learn and read. It is a popular choice for beginners because it is relatively forgiving and has a large community of users. Python is a good choice for web development, data science, and machine learning.\n",
            "\n",
            "**2. JavaScript:** JavaScript is the programming language of the web. It is used to create interactive web pages and web applications. JavaScript is a good choice for beginners because it is relatively easy to learn and has a large community of users. JavaScript is a good choice for web development, game development, and mobile app development.\n",
            "\n",
            "**3. Java:** Java is a popular object-oriented programming language that is used to develop a wide range of applications, from desktop applications to web applications to mobile apps. Java is a good choice for beginners because it is a well-established language with a large community of users. Java is a good choice for software development, web development, and mobile app development.\n",
            "\n",
            "**4. C#:** C# is a modern object-oriented programming language that is similar to Java. It is used to develop a wide range of applications, from desktop applications to web applications to mobile apps. C# is a good choice for beginners because it is a well-established language with a large community of users. C# is a good choice for software development, web development, and game development.\n",
            "\n",
            "If you are not sure which language to start with, Python and JavaScript are good choices for beginners. These languages are relatively easy to learn and have a large community of users to help you along the way.\n",
            "\n",
            "Here are some resources that can help you get started with learning to code:\n",
            "\n",
            "* **FreeCodeCamp:** https://www.freecodecamp.org/\n",
            "* **Codecademy:** https://www.codecademy.com/\n",
            "* **Khan Academy:** https://www.khanacademy.org/computing/computer-programming\n",
            "* **MIT OpenCourseware:** https://ocw.mit.edu/index.htm\n",
            "\n",
            "I hope this helps!"
          ]
        }
      ]
    },
    {
      "cell_type": "code",
      "source": [
        "responses = chat.send_message(\"What am I learning? I forgot\", stream = True)\n",
        "\n",
        "for response in responses:\n",
        "  print(response.text, end = \"\")"
      ],
      "metadata": {
        "colab": {
          "base_uri": "https://localhost:8080/"
        },
        "id": "rri4V9DcuR9J",
        "outputId": "74ff9d85-12d4-410f-cbe1-14fa1bd4d7a3"
      },
      "execution_count": 19,
      "outputs": [
        {
          "output_type": "stream",
          "name": "stdout",
          "text": [
            "According to our previous conversation, you are interested in learning to code. We discussed some popular programming languages for beginners, including Python, JavaScript, Java, and C#. You also mentioned that you were unsure which language to start with, and we recommended Python or JavaScript as good choices for beginners.\n",
            "\n",
            "Is there anything else I can help you with?"
          ]
        }
      ]
    },
    {
      "cell_type": "code",
      "source": [
        "captioning_model = GenerativeModel(\"gemini-pro-vision\")\n",
        "\n",
        "from vertexai.preview.generative_models import Image\n",
        "\n",
        "image = Image.load_from_file(\"test.jpg\")"
      ],
      "metadata": {
        "id": "4LQ_ERF-upca"
      },
      "execution_count": 20,
      "outputs": []
    },
    {
      "cell_type": "code",
      "source": [
        "responses = captioning_model.generate_content(\n",
        "    [image, \"What is in this image? Describe this image with as much details as possible.\"], stream = True\n",
        ")\n",
        "\n",
        "for response in responses:\n",
        "  print(response.text, end=\"\")"
      ],
      "metadata": {
        "colab": {
          "base_uri": "https://localhost:8080/"
        },
        "id": "BDqVjHrcvEr8",
        "outputId": "b2a0d27f-dbdc-442d-fdaa-30e7e12bbd95"
      },
      "execution_count": 22,
      "outputs": [
        {
          "output_type": "stream",
          "name": "stdout",
          "text": [
            " This is a photo of a hoopoe bird. It is standing on a branch and holding a worm in its beak. The bird has a distinctive crest on its head and black and white striped wings. The background is soft green."
          ]
        }
      ]
    }
  ]
}